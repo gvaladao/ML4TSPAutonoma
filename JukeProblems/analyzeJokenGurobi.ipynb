{
 "cells": [
  {
   "cell_type": "code",
   "execution_count": 1,
   "metadata": {
    "collapsed": true
   },
   "outputs": [],
   "source": [
    "from datetime import datetime\n",
    "import statistics\n",
    "\n",
    "import gurobipy as gp\n",
    "from gurobipy import GRB"
   ]
  },
  {
   "cell_type": "code",
   "execution_count": 3,
   "outputs": [],
   "source": [
    "# Read the problem\n",
    "name=\"00001\"\n",
    "file = open( \"J10/\"+name+\".txt\", 'r')\n",
    "\n",
    "line_no = 0;\n",
    "c=0\n",
    "problem = {\"items\": []}  # a dictionary with various propertie + items a list of dicts.\n",
    "problem[\"name\"]=name\n",
    "while True:\n",
    "    line = file.readline()\n",
    "    if not line:\n",
    "        break\n",
    "    line = line.replace(\"\\n\", \"\")\n",
    "    if line_no==0:\n",
    "        content = line.split(\" \")\n",
    "        problem[\"n\"]=int(content[0])\n",
    "    elif line_no in range(problem[\"n\"]+4,problem[\"n\"]+8):\n",
    "        content = line.split(\" \")\n",
    "        problem[content[1][1:]]=int(content[0])\n",
    "    elif line_no in range(3,problem[\"n\"]+3):\n",
    "        content = line.split(\" \")\n",
    "        item = {\"id_x\": int(content[0]), \"p\": int(content[1]), \"w\": int(content[2]),\"x\": int(content[3])}\n",
    "        problem[\"items\"].append(item)\n",
    "    else:\n",
    "        pass # do nothing, just comment lines\n",
    "    line_no += 1\n",
    "file.close()\n",
    "problem[\"sorted_items\"] = sorted(problem[\"items\"], key=lambda x: (-x['p'] / x['w'], -x['w']))\n"
   ],
   "metadata": {
    "collapsed": false
   }
  },
  {
   "cell_type": "code",
   "execution_count": 4,
   "outputs": [],
   "source": [
    "profits = list(problem[\"items\"][i][\"p\"] for i in range(int(problem[\"n\"])))\n",
    "weights = list(problem[\"items\"][i][\"w\"] for i in range(int(problem[\"n\"])))\n",
    "n=int(problem[\"n\"])\n",
    "capacity = problem[\"c\"]"
   ],
   "metadata": {
    "collapsed": false
   }
  },
  {
   "cell_type": "code",
   "execution_count": 8,
   "outputs": [
    {
     "name": "stdout",
     "output_type": "stream",
     "text": [
      "Set parameter MIPGap to value 1e-06\n",
      "Gurobi Optimizer version 10.0.1 build v10.0.1rc0 (mac64[arm])\n",
      "\n",
      "CPU model: Apple M1\n",
      "Thread count: 8 physical cores, 8 logical processors, using up to 8 threads\n",
      "\n",
      "Optimize a model with 1 rows, 400 columns and 400 nonzeros\n",
      "Model fingerprint: 0x04e8ccc2\n",
      "Variable types: 0 continuous, 400 integer (400 binary)\n",
      "Coefficient statistics:\n",
      "  Matrix range     [1e+00, 5e+05]\n",
      "  Objective range  [2e+00, 5e+05]\n",
      "  Bounds range     [1e+00, 1e+00]\n",
      "  RHS range        [1e+06, 1e+06]\n",
      "Found heuristic solution: objective 1003069.0000\n",
      "Presolve removed 0 rows and 37 columns\n",
      "Presolve time: 0.00s\n",
      "Presolved: 1 rows, 363 columns, 363 nonzeros\n",
      "Variable types: 0 continuous, 363 integer (362 binary)\n",
      "Found heuristic solution: objective 1003160.0000\n",
      "\n",
      "Root relaxation: objective 1.004001e+06, 1 iterations, 0.00 seconds (0.00 work units)\n",
      "\n",
      "    Nodes    |    Current Node    |     Objective Bounds      |     Work\n",
      " Expl Unexpl |  Obj  Depth IntInf | Incumbent    BestBd   Gap | It/Node Time\n",
      "\n",
      "     0     0 1004000.79    0    1 1003160.00 1004000.79  0.08%     -    0s\n",
      "H    0     0                    1003937.0000 1004000.79  0.01%     -    0s\n",
      "H    0     0                    1003980.0000 1004000.79  0.00%     -    0s\n",
      "H    0     0                    1003987.0000 1004000.79  0.00%     -    0s\n",
      "H    0     0                    1003988.0000 1003997.93  0.00%     -    0s\n",
      "     0     0 1003997.93    0    2 1003988.00 1003997.93  0.00%     -    0s\n",
      "\n",
      "Cutting planes:\n",
      "  Cover: 1\n",
      "\n",
      "Explored 1 nodes (2 simplex iterations) in 0.07 seconds (0.09 work units)\n",
      "Thread count was 8 (of 8 available processors)\n",
      "\n",
      "Solution count 6: 1.00399e+06 1.00399e+06 1.00398e+06 ... 1.00307e+06\n",
      "\n",
      "Optimal solution found (tolerance 1.00e-06)\n",
      "Best objective 1.003988000000e+06, best bound 1.003988000000e+06, gap 0.0000%\n"
     ]
    }
   ],
   "source": [
    "#Model\n",
    "start_date = datetime.now()\n",
    "m = gp.Model()\n",
    "\n",
    "# add decision variables\n",
    "x: None = m.addVars(n, vtype=GRB.BINARY, name='x')\n",
    "\n",
    "# set objective function\n",
    "m.setObjective(gp.quicksum(profits[i] * x[i] for i in range(n)), GRB.MAXIMIZE)\n",
    "\n",
    "# add constraint\n",
    "constraint = m.addConstr((gp.quicksum(weights[i] * x[i] for i in range(n)) <= capacity), name=\"Capacity\")\n",
    "\n",
    "# Add Lazy Constraints\n",
    "#m.setParam(GRB.Param.LogToConsole, 0) # 1 for verbose log\n",
    "#m.setParam('TimeLimit', timeOut )\n",
    "# m.setParam('Method', 5)  # set  2 the method to branch-and-price\n",
    "# m.setParam('MIPFocus', 1)  # set to 1 to focus on finding feasible solutions quickly\n",
    "#m.update()\n",
    "# print(f\"{m.getRow(constraint)} {constraint.Sense} {constraint.RHS}\")\n",
    "\n",
    "# Set the MIP gap to 10% (0.1)\n",
    "m.setParam('MIPGap', 0.000001)\n",
    "m.optimize()  # solve the model\n",
    "end_date = datetime.now()\n",
    "\n"
   ],
   "metadata": {
    "collapsed": false
   }
  },
  {
   "cell_type": "code",
   "execution_count": null,
   "outputs": [],
   "source": [
    "# objective: 1003988"
   ],
   "metadata": {
    "collapsed": false
   }
  }
 ],
 "metadata": {
  "kernelspec": {
   "display_name": "Python 3",
   "language": "python",
   "name": "python3"
  },
  "language_info": {
   "codemirror_mode": {
    "name": "ipython",
    "version": 2
   },
   "file_extension": ".py",
   "mimetype": "text/x-python",
   "name": "python",
   "nbconvert_exporter": "python",
   "pygments_lexer": "ipython2",
   "version": "2.7.6"
  }
 },
 "nbformat": 4,
 "nbformat_minor": 0
}
